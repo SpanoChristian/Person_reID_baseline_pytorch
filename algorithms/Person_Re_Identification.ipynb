{
  "nbformat": 4,
  "nbformat_minor": 0,
  "metadata": {
    "colab": {
      "name": "Person Re-Identification.ipynb",
      "provenance": [],
      "collapsed_sections": [],
      "toc_visible": true
    },
    "kernelspec": {
      "name": "python3",
      "display_name": "Python 3"
    },
    "accelerator": "GPU"
  },
  "cells": [
    {
      "cell_type": "markdown",
      "metadata": {
        "id": "J4DVkW2_9pmt",
        "colab_type": "text"
      },
      "source": [
        "#**Inizializzazione**\n",
        "*   Ottenimento dataset di test (formato zip)\n",
        "*   Dataset unzip\n",
        "*   Clonazione repository da GitHub"
      ]
    },
    {
      "cell_type": "code",
      "metadata": {
        "id": "4YN6ZURM5FiN",
        "colab_type": "code",
        "colab": {}
      },
      "source": [
        "!wget http://hitis.altervista.org/Market.zip\n",
        "!unzip Market.zip"
      ],
      "execution_count": null,
      "outputs": []
    },
    {
      "cell_type": "markdown",
      "metadata": {
        "id": "TPV-8iCZ9KAH",
        "colab_type": "text"
      },
      "source": [
        "Per esecuzione con dataset Market-1501"
      ]
    },
    {
      "cell_type": "code",
      "metadata": {
        "id": "b8ZQAglC9Ivm",
        "colab_type": "code",
        "colab": {}
      },
      "source": [
        "#!wget http://hitis.altervista.org/Market1501.zip\n",
        "#!unzip Market1501.zip"
      ],
      "execution_count": null,
      "outputs": []
    },
    {
      "cell_type": "code",
      "metadata": {
        "id": "MZC3_0l0rqrk",
        "colab_type": "code",
        "colab": {
          "base_uri": "https://localhost:8080/",
          "height": 136
        },
        "outputId": "1fac353c-7f32-4cb6-c84d-ceea611de8e4"
      },
      "source": [
        "!git clone https://github.com/SpanoChristian/Person_reID_baseline_pytorch.git"
      ],
      "execution_count": null,
      "outputs": [
        {
          "output_type": "stream",
          "text": [
            "Cloning into 'Person_reID_baseline_pytorch'...\n",
            "remote: Enumerating objects: 21, done.\u001b[K\n",
            "remote: Counting objects: 100% (21/21), done.\u001b[K\n",
            "remote: Compressing objects: 100% (17/17), done.\u001b[K\n",
            "remote: Total 1005 (delta 9), reused 13 (delta 4), pack-reused 984\u001b[K\n",
            "Receiving objects: 100% (1005/1005), 1.16 MiB | 25.84 MiB/s, done.\n",
            "Resolving deltas: 100% (587/587), done.\n"
          ],
          "name": "stdout"
        }
      ]
    },
    {
      "cell_type": "markdown",
      "metadata": {
        "id": "LpYrnxsGeS4l",
        "colab_type": "text"
      },
      "source": [
        "#**Preparazione**"
      ]
    },
    {
      "cell_type": "code",
      "metadata": {
        "id": "Rr7_ifB-et9u",
        "colab_type": "code",
        "colab": {
          "base_uri": "https://localhost:8080/",
          "height": 51
        },
        "outputId": "f088e89b-0ac5-4ffa-c27f-e9dff57a0963"
      },
      "source": [
        "cd Person_reID_baseline_pytorch"
      ],
      "execution_count": null,
      "outputs": [
        {
          "output_type": "stream",
          "text": [
            "[Errno 2] No such file or directory: 'Person_reID_baseline_pytorch'\n",
            "/content/Person_reID_baseline_pytorch\n"
          ],
          "name": "stdout"
        }
      ]
    },
    {
      "cell_type": "markdown",
      "metadata": {
        "id": "AsB17zG6r2Lj",
        "colab_type": "text"
      },
      "source": [
        "Inserimento delle immagini raggruppate per ID nella directory \"Market/pytorch\""
      ]
    },
    {
      "cell_type": "code",
      "metadata": {
        "id": "yY87YRKp71IF",
        "colab_type": "code",
        "colab": {}
      },
      "source": [
        "!python prepare.py"
      ],
      "execution_count": null,
      "outputs": []
    },
    {
      "cell_type": "markdown",
      "metadata": {
        "id": "-Qebm3DzgN5_",
        "colab_type": "text"
      },
      "source": [
        "#**Training**\n",
        "Training del modello"
      ]
    },
    {
      "cell_type": "code",
      "metadata": {
        "id": "3x6Fe7u-8Xym",
        "colab_type": "code",
        "colab": {}
      },
      "source": [
        "!pip install pretrainedmodels\n",
        "!python train.py --gpu_ids 0 --name ft_ResNet50 --train --batchsize 32  --data_dir ../Market/pytorch"
      ],
      "execution_count": null,
      "outputs": []
    },
    {
      "cell_type": "markdown",
      "metadata": {
        "id": "SyII8rhQWHjC",
        "colab_type": "text"
      },
      "source": [
        "**Modello già trainato**"
      ]
    },
    {
      "cell_type": "code",
      "metadata": {
        "id": "MeI9afR3cKh4",
        "colab_type": "code",
        "colab": {
          "base_uri": "https://localhost:8080/",
          "height": 547
        },
        "outputId": "f605009b-5729-4dbe-9dd6-8bd748a585ad"
      },
      "source": [
        "!pip install pretrainedmodels\n",
        "!wget http://hitis.altervista.org/model.zip"
      ],
      "execution_count": null,
      "outputs": [
        {
          "output_type": "stream",
          "text": [
            "Collecting pretrainedmodels\n",
            "\u001b[?25l  Downloading https://files.pythonhosted.org/packages/84/0e/be6a0e58447ac16c938799d49bfb5fb7a80ac35e137547fc6cee2c08c4cf/pretrainedmodels-0.7.4.tar.gz (58kB)\n",
            "\r\u001b[K     |█████▋                          | 10kB 21.0MB/s eta 0:00:01\r\u001b[K     |███████████▏                    | 20kB 2.8MB/s eta 0:00:01\r\u001b[K     |████████████████▊               | 30kB 3.8MB/s eta 0:00:01\r\u001b[K     |██████████████████████▎         | 40kB 4.2MB/s eta 0:00:01\r\u001b[K     |███████████████████████████▉    | 51kB 3.4MB/s eta 0:00:01\r\u001b[K     |████████████████████████████████| 61kB 2.8MB/s \n",
            "\u001b[?25hRequirement already satisfied: torch in /usr/local/lib/python3.6/dist-packages (from pretrainedmodels) (1.6.0+cu101)\n",
            "Requirement already satisfied: torchvision in /usr/local/lib/python3.6/dist-packages (from pretrainedmodels) (0.7.0+cu101)\n",
            "Collecting munch\n",
            "  Downloading https://files.pythonhosted.org/packages/cc/ab/85d8da5c9a45e072301beb37ad7f833cd344e04c817d97e0cc75681d248f/munch-2.5.0-py2.py3-none-any.whl\n",
            "Requirement already satisfied: tqdm in /usr/local/lib/python3.6/dist-packages (from pretrainedmodels) (4.41.1)\n",
            "Requirement already satisfied: future in /usr/local/lib/python3.6/dist-packages (from torch->pretrainedmodels) (0.16.0)\n",
            "Requirement already satisfied: numpy in /usr/local/lib/python3.6/dist-packages (from torch->pretrainedmodels) (1.18.5)\n",
            "Requirement already satisfied: pillow>=4.1.1 in /usr/local/lib/python3.6/dist-packages (from torchvision->pretrainedmodels) (7.0.0)\n",
            "Requirement already satisfied: six in /usr/local/lib/python3.6/dist-packages (from munch->pretrainedmodels) (1.15.0)\n",
            "Building wheels for collected packages: pretrainedmodels\n",
            "  Building wheel for pretrainedmodels (setup.py) ... \u001b[?25l\u001b[?25hdone\n",
            "  Created wheel for pretrainedmodels: filename=pretrainedmodels-0.7.4-cp36-none-any.whl size=60964 sha256=f060d86d63fe1b76700372ea2ca3281963a4dd5a15fe5965a47dd255b154e3bc\n",
            "  Stored in directory: /root/.cache/pip/wheels/69/df/63/62583c096289713f22db605aa2334de5b591d59861a02c2ecd\n",
            "Successfully built pretrainedmodels\n",
            "Installing collected packages: munch, pretrainedmodels\n",
            "Successfully installed munch-2.5.0 pretrainedmodels-0.7.4\n",
            "--2020-09-15 09:11:29--  http://hitis.altervista.org/model.zip\n",
            "Resolving hitis.altervista.org (hitis.altervista.org)... 178.63.179.162\n",
            "Connecting to hitis.altervista.org (hitis.altervista.org)|178.63.179.162|:80... connected.\n",
            "HTTP request sent, awaiting response... 200 OK\n",
            "Length: 100637195 (96M) [application/zip]\n",
            "Saving to: ‘model.zip’\n",
            "\n",
            "model.zip           100%[===================>]  95.97M   442KB/s    in 3m 48s  \n",
            "\n",
            "2020-09-15 09:15:17 (432 KB/s) - ‘model.zip’ saved [100637195/100637195]\n",
            "\n"
          ],
          "name": "stdout"
        }
      ]
    },
    {
      "cell_type": "code",
      "metadata": {
        "id": "XcP_9htDAg-j",
        "colab_type": "code",
        "colab": {
          "base_uri": "https://localhost:8080/",
          "height": 289
        },
        "outputId": "2dc13dfc-ea9f-47e1-a487-e80f75b142af"
      },
      "source": [
        "!unzip model.zip"
      ],
      "execution_count": null,
      "outputs": [
        {
          "output_type": "stream",
          "text": [
            "Archive:  model.zip\n",
            "   creating: model/\n",
            "   creating: model/ft_ResNet50/\n",
            "  inflating: __MACOSX/model/._ft_ResNet50  \n",
            "  inflating: model/ft_ResNet50/train.jpg  \n",
            "  inflating: __MACOSX/model/ft_ResNet50/._train.jpg  \n",
            "  inflating: model/ft_ResNet50/.DS_Store  \n",
            "  inflating: __MACOSX/model/ft_ResNet50/._.DS_Store  \n",
            "  inflating: model/ft_ResNet50/opts.yaml  \n",
            "  inflating: __MACOSX/model/ft_ResNet50/._opts.yaml  \n",
            "  inflating: model/ft_ResNet50/train.py  \n",
            "  inflating: __MACOSX/model/ft_ResNet50/._train.py  \n",
            "  inflating: model/ft_ResNet50/net_last.pth  \n",
            "  inflating: __MACOSX/model/ft_ResNet50/._net_last.pth  \n",
            "  inflating: model/ft_ResNet50/_DS_Store  \n",
            "  inflating: __MACOSX/model/ft_ResNet50/.__DS_Store  \n"
          ],
          "name": "stdout"
        }
      ]
    },
    {
      "cell_type": "markdown",
      "metadata": {
        "id": "AGiZpLRNgcv3",
        "colab_type": "text"
      },
      "source": [
        "#**Test**\n",
        "Caricamento dei pesi trainati per estrarre caratteristiche da ogni immagine"
      ]
    },
    {
      "cell_type": "code",
      "metadata": {
        "id": "TdilxkAPS_9z",
        "colab_type": "code",
        "colab": {
          "base_uri": "https://localhost:8080/",
          "height": 340
        },
        "outputId": "b071ccba-8432-46b1-976c-e7a04963f137"
      },
      "source": [
        "!python test.py --gpu_ids 0 --name ft_ResNet50 --test_dir ../Market/pytorch/ --batchsize 32 --which_epoch last"
      ],
      "execution_count": null,
      "outputs": [
        {
          "output_type": "stream",
          "text": [
            "This is not an error. If you want to use low precision, i.e., fp16, please install the apex with cuda support (https://github.com/NVIDIA/apex) and update pytorch to 1.0\n",
            "We use the scale: 1\n",
            "-------test-----------\n",
            "32\n",
            "64\n",
            "96\n",
            "128\n",
            "160\n",
            "192\n",
            "224\n",
            "256\n",
            "288\n",
            "306\n",
            "32\n",
            "64\n",
            "65\n",
            "ft_ResNet50\n",
            "torch.Size([65, 512])\n",
            "Rank@1:0.000000 Rank@5:0.000000 Rank@10:0.000000 mAP:0.000254\n"
          ],
          "name": "stdout"
        }
      ]
    },
    {
      "cell_type": "markdown",
      "metadata": {
        "id": "3XOP6H0Okazp",
        "colab_type": "text"
      },
      "source": [
        "#**Demo**\n",
        "Visualizzazione del risultato specificando quale query si vuole testare"
      ]
    },
    {
      "cell_type": "code",
      "metadata": {
        "id": "cK8nCNAkR84i",
        "colab_type": "code",
        "colab": {}
      },
      "source": [
        "%mkdir matching_result"
      ],
      "execution_count": null,
      "outputs": []
    },
    {
      "cell_type": "code",
      "metadata": {
        "id": "qk99Mbj2k5Am",
        "colab_type": "code",
        "colab": {
          "base_uri": "https://localhost:8080/",
          "height": 1000
        },
        "outputId": "141e9ec7-6ad2-4eaa-ff1e-6def5a90f816"
      },
      "source": [
        "%%bash \n",
        "#Esegui script per numero di query\n",
        "for i in {1..41}; do\n",
        "\tpython demo.py --query_index \"$i\"\n",
        "done"
      ],
      "execution_count": null,
      "outputs": [
        {
          "output_type": "stream",
          "text": [
            "../Market/pytorch/query/10798/10798_c4_13500.jpg\n",
            "Top 10 images are as follow:\n",
            "../Market/pytorch/gallery/43460/43460_c4_4200..jpg\n",
            "../Market/pytorch/gallery/90802/90802_c4_12600.jpg\n",
            "../Market/pytorch/gallery/34837/34837_c4_21300.jpg\n",
            "../Market/pytorch/gallery/90235/90235_c4_20100.jpg\n",
            "../Market/pytorch/gallery/27316/27316_c4_15000.jpg\n",
            "../Market/pytorch/query/11514/11514_c3_14400.jpg\n",
            "Top 10 images are as follow:\n",
            "../Market/pytorch/gallery/18564/18564_c3_2700..jpg\n",
            "../Market/pytorch/gallery/29167/29167_c3_22200.jpg\n",
            "../Market/pytorch/gallery/25626/25626_c3_10200.jpg\n",
            "../Market/pytorch/gallery/16565/16565_c3_12600.jpg\n",
            "../Market/pytorch/gallery/3190/3190_c3_18600.jpg\n",
            "../Market/pytorch/query/11579/11579_c1_5700..jpg\n",
            "Top 10 images are as follow:\n",
            "../Market/pytorch/gallery/92930/92930_c1_8700..jpg\n",
            "../Market/pytorch/gallery/31169/31169_c1_7500..jpg\n",
            "../Market/pytorch/gallery/5176/5176_c1_6900..jpg\n",
            "../Market/pytorch/gallery/81408/81408_c1_5400..jpg\n",
            "../Market/pytorch/gallery/88605/88605_c1_6600..jpg\n",
            "../Market/pytorch/query/11609/11609_c1_18000.jpg\n",
            "Top 10 images are as follow:\n",
            "../Market/pytorch/gallery/80533/80533_c1_18300.jpg\n",
            "../Market/pytorch/gallery/89917/89917_c1_16500.jpg\n",
            "../Market/pytorch/gallery/18566/18566_c1_18600.jpg\n",
            "../Market/pytorch/gallery/27103/27103_c1_21300.jpg\n",
            "../Market/pytorch/gallery/24282/24282_c1_11100.jpg\n",
            "../Market/pytorch/query/12125/12125_c4_7800..jpg\n",
            "Top 10 images are as follow:\n",
            "../Market/pytorch/gallery/37952/37952_c4_8400..jpg\n",
            "../Market/pytorch/gallery/59414/59414_c4_3300..jpg\n",
            "../Market/pytorch/gallery/83791/83791_c4_11400.jpg\n",
            "../Market/pytorch/gallery/18500/18500_c3_600.j.jpg\n",
            "../Market/pytorch/gallery/2810/2810_c3_13200.jpg\n",
            "../Market/pytorch/query/12249/12249_c2_1500..jpg\n",
            "Top 10 images are as follow:\n",
            "../Market/pytorch/gallery/29852/29852_c2_18600.jpg\n",
            "../Market/pytorch/gallery/12633/12633_c2_18900.jpg\n",
            "../Market/pytorch/gallery/44242/44242_c2_16800.jpg\n",
            "../Market/pytorch/gallery/71203/71203_c2_4800..jpg\n",
            "../Market/pytorch/gallery/11609/11609_c1_18000.jpg\n",
            "../Market/pytorch/query/12633/12633_c2_18900.jpg\n",
            "Top 10 images are as follow:\n",
            "../Market/pytorch/gallery/29852/29852_c2_18600.jpg\n",
            "../Market/pytorch/gallery/44242/44242_c2_16800.jpg\n",
            "../Market/pytorch/gallery/12249/12249_c2_1500..jpg\n",
            "../Market/pytorch/gallery/39680/39680_c2_9600..jpg\n",
            "../Market/pytorch/gallery/81408/81408_c1_5400..jpg\n",
            "../Market/pytorch/query/15009/15009_c2_20700.jpg\n",
            "Top 10 images are as follow:\n",
            "../Market/pytorch/gallery/18346/18346_c2_10800.jpg\n",
            "../Market/pytorch/gallery/88904/88904_c3_5100..jpg\n",
            "../Market/pytorch/gallery/40295/40295_c3_4500..jpg\n",
            "../Market/pytorch/gallery/22038/22038_c2_6900..jpg\n",
            "../Market/pytorch/gallery/82780/82780_c3_18900.jpg\n",
            "../Market/pytorch/query/18500/18500_c3_600.j.jpg\n",
            "Top 10 images are as follow:\n",
            "../Market/pytorch/gallery/90093/90093_c3_21300.jpg\n",
            "../Market/pytorch/gallery/15073/15073_c3_21000.jpg\n",
            "../Market/pytorch/gallery/13107/13107_c3_9000..jpg\n",
            "../Market/pytorch/gallery/99668/99668_c3_7800..jpg\n",
            "../Market/pytorch/gallery/98227/98227_c3_18300.jpg\n",
            "../Market/pytorch/query/18566/18566_c1_18600.jpg\n",
            "Top 10 images are as follow:\n",
            "../Market/pytorch/gallery/80533/80533_c1_18300.jpg\n",
            "../Market/pytorch/gallery/89917/89917_c1_16500.jpg\n",
            "../Market/pytorch/gallery/11609/11609_c1_18000.jpg\n",
            "../Market/pytorch/gallery/27103/27103_c1_21300.jpg\n",
            "../Market/pytorch/gallery/66261/66261_c1_22200.jpg\n",
            "../Market/pytorch/query/2231/2231_c2_19800.jpg\n",
            "Top 10 images are as follow:\n",
            "../Market/pytorch/gallery/67803/67803_c2_19200.jpg\n",
            "../Market/pytorch/gallery/47832/47832_c2_6000..jpg\n",
            "../Market/pytorch/gallery/97670/97670_c2_6300..jpg\n",
            "../Market/pytorch/gallery/48020/48020_c2_14400.jpg\n",
            "../Market/pytorch/gallery/16599/16599_c2_4500..jpg\n",
            "../Market/pytorch/query/23849/23849_c3_16500.jpg\n",
            "Top 10 images are as follow:\n",
            "../Market/pytorch/gallery/39330/39330_c3_17400.jpg\n",
            "../Market/pytorch/gallery/18510/18510_c3_11100.jpg\n",
            "../Market/pytorch/gallery/70256/70256_c3_17700.jpg\n",
            "../Market/pytorch/gallery/95292/95292_c3_15000.jpg\n",
            "../Market/pytorch/gallery/97794/97794_c3_12000.jpg\n",
            "../Market/pytorch/query/24623/24623_c4_13800.jpg\n",
            "Top 10 images are as follow:\n",
            "../Market/pytorch/gallery/24716/24716_c1_19500.jpg\n",
            "../Market/pytorch/gallery/16434/16434_c4_0.jpg.jpg\n",
            "../Market/pytorch/gallery/36447/36447_c1_20400.jpg\n",
            "../Market/pytorch/gallery/20584/20584_c1_17700.jpg\n",
            "../Market/pytorch/gallery/27543/27543_c2_1800..jpg\n",
            "../Market/pytorch/query/25015/25015_c4_18000.jpg\n",
            "Top 10 images are as follow:\n",
            "../Market/pytorch/gallery/96564/96564_c4_4500..jpg\n",
            "../Market/pytorch/gallery/27316/27316_c4_15000.jpg\n",
            "../Market/pytorch/gallery/34837/34837_c4_21300.jpg\n",
            "../Market/pytorch/gallery/90235/90235_c4_20100.jpg\n",
            "../Market/pytorch/gallery/62074/62074_c4_19200.jpg\n",
            "../Market/pytorch/query/26630/26630_c3_15600.jpg\n",
            "Top 10 images are as follow:\n",
            "../Market/pytorch/gallery/47842/47842_c3_17100.jpg\n",
            "../Market/pytorch/gallery/43756/43756_c3_15900.jpg\n",
            "../Market/pytorch/gallery/91824/91824_c3_14100.jpg\n",
            "../Market/pytorch/gallery/33216/33216_c3_4200..jpg\n",
            "../Market/pytorch/gallery/98227/98227_c3_18300.jpg\n",
            "../Market/pytorch/query/27316/27316_c4_15000.jpg\n",
            "Top 10 images are as follow:\n",
            "../Market/pytorch/gallery/25015/25015_c4_18000.jpg\n",
            "../Market/pytorch/gallery/34837/34837_c4_21300.jpg\n",
            "../Market/pytorch/gallery/90235/90235_c4_20100.jpg\n",
            "../Market/pytorch/gallery/96564/96564_c4_4500..jpg\n",
            "../Market/pytorch/gallery/62074/62074_c4_19200.jpg\n",
            "../Market/pytorch/query/2765/2765_c2_1500..jpg\n",
            "Top 10 images are as follow:\n",
            "../Market/pytorch/gallery/38440/38440_c1_3000..jpg\n",
            "../Market/pytorch/gallery/99046/99046_c1_2100..jpg\n",
            "../Market/pytorch/gallery/58929/58929_c1_3600..jpg\n",
            "../Market/pytorch/gallery/66552/66552_c3_1200..jpg\n",
            "../Market/pytorch/gallery/3417/3417_c1_0.jpg.jpg\n",
            "../Market/pytorch/query/29856/29856_c3_900.j.jpg\n",
            "Top 10 images are as follow:\n",
            "../Market/pytorch/gallery/59745/59745_c3_5400..jpg\n",
            "../Market/pytorch/gallery/4812/4812_c3_6300..jpg\n",
            "../Market/pytorch/gallery/66634/66634_c3_6600..jpg\n",
            "../Market/pytorch/gallery/89917/89917_c1_16500.jpg\n",
            "../Market/pytorch/gallery/27103/27103_c1_21300.jpg\n",
            "../Market/pytorch/query/32358/32358_c3_3600..jpg\n",
            "Top 10 images are as follow:\n",
            "../Market/pytorch/gallery/63271/63271_c3_3300..jpg\n",
            "../Market/pytorch/gallery/88850/88850_c3_20700.jpg\n",
            "../Market/pytorch/gallery/15611/15611_c3_18000.jpg\n",
            "../Market/pytorch/gallery/69745/69745_c3_15300.jpg\n",
            "../Market/pytorch/gallery/5728/5728_c3_3000..jpg\n",
            "../Market/pytorch/query/35725/35725_c2_5700..jpg\n",
            "Top 10 images are as follow:\n",
            "../Market/pytorch/gallery/90845/90845_c2_6600..jpg\n",
            "../Market/pytorch/gallery/34302/34302_c2_7500..jpg\n",
            "../Market/pytorch/gallery/17886/17886_c2_8700..jpg\n",
            "../Market/pytorch/gallery/47277/47277_c2_7200..jpg\n",
            "../Market/pytorch/gallery/18346/18346_c2_10800.jpg\n",
            "../Market/pytorch/query/36400/36400_c4_2400..jpg\n",
            "Top 10 images are as follow:\n",
            "../Market/pytorch/gallery/65607/65607_c4_1200..jpg\n",
            "../Market/pytorch/gallery/61272/61272_c4_900.j.jpg\n",
            "../Market/pytorch/gallery/33888/33888_c4_21000.jpg\n",
            "../Market/pytorch/gallery/62091/62091_c1_1200..jpg\n",
            "../Market/pytorch/gallery/69531/69531_c4_18900.jpg\n",
            "../Market/pytorch/query/39193/39193_c4_17100.jpg\n",
            "Top 10 images are as follow:\n",
            "../Market/pytorch/gallery/27543/27543_c2_1800..jpg\n",
            "../Market/pytorch/gallery/25624/25624_c4_18300.jpg\n",
            "../Market/pytorch/gallery/6043/6043_c4_21600.jpg\n",
            "../Market/pytorch/gallery/24716/24716_c1_19500.jpg\n",
            "../Market/pytorch/gallery/20584/20584_c1_17700.jpg\n",
            "../Market/pytorch/query/39330/39330_c3_17400.jpg\n",
            "Top 10 images are as follow:\n",
            "../Market/pytorch/gallery/18510/18510_c3_11100.jpg\n",
            "../Market/pytorch/gallery/23849/23849_c3_16500.jpg\n",
            "../Market/pytorch/gallery/70256/70256_c3_17700.jpg\n",
            "../Market/pytorch/gallery/95292/95292_c3_15000.jpg\n",
            "../Market/pytorch/gallery/31169/31169_c1_7500..jpg\n",
            "../Market/pytorch/query/39680/39680_c2_9600..jpg\n",
            "Top 10 images are as follow:\n",
            "../Market/pytorch/gallery/35698/35698_c1_6000..jpg\n",
            "../Market/pytorch/gallery/11579/11579_c1_5700..jpg\n",
            "../Market/pytorch/gallery/81408/81408_c1_5400..jpg\n",
            "../Market/pytorch/gallery/11609/11609_c1_18000.jpg\n",
            "../Market/pytorch/gallery/88605/88605_c1_6600..jpg\n",
            "../Market/pytorch/query/41057/41057_c4_9000..jpg\n",
            "Top 10 images are as follow:\n",
            "../Market/pytorch/gallery/16520/16520_c4_18600.jpg\n",
            "../Market/pytorch/gallery/66854/66854_c4_8100..jpg\n",
            "../Market/pytorch/gallery/33888/33888_c4_21000.jpg\n",
            "../Market/pytorch/gallery/69531/69531_c4_18900.jpg\n",
            "../Market/pytorch/gallery/73710/73710_c4_6300..jpg\n",
            "../Market/pytorch/query/42102/42102_c4_20700.jpg\n",
            "Top 10 images are as follow:\n",
            "../Market/pytorch/gallery/19279/19279_c4_15600.jpg\n",
            "../Market/pytorch/gallery/32621/32621_c4_14400.jpg\n",
            "../Market/pytorch/gallery/91992/91992_c4_14100.jpg\n",
            "../Market/pytorch/gallery/28470/28470_c4_15900.jpg\n",
            "../Market/pytorch/gallery/11635/11635_c1_4500..jpg\n",
            "../Market/pytorch/query/43756/43756_c3_15900.jpg\n",
            "Top 10 images are as follow:\n",
            "../Market/pytorch/gallery/82860/82860_c3_5700..jpg\n",
            "../Market/pytorch/gallery/33216/33216_c3_4200..jpg\n",
            "../Market/pytorch/gallery/91369/91369_c3_6900..jpg\n",
            "../Market/pytorch/gallery/26940/26940_c3_7200..jpg\n",
            "../Market/pytorch/gallery/47842/47842_c3_17100.jpg\n",
            "../Market/pytorch/query/47011/47011_c2_5100..jpg\n",
            "Top 10 images are as follow:\n",
            "../Market/pytorch/gallery/46391/46391_c2_12600.jpg\n",
            "../Market/pytorch/gallery/19210/19210_c2_21600.jpg\n",
            "../Market/pytorch/gallery/13184/13184_c2_17700.jpg\n",
            "../Market/pytorch/gallery/5816/5816_c2_2100..jpg\n",
            "../Market/pytorch/gallery/63022/63022_c2_4200..jpg\n",
            "../Market/pytorch/query/47321/47321_c2_3300..jpg\n",
            "Top 10 images are as follow:\n",
            "../Market/pytorch/gallery/46019/46019_c2_15300.jpg\n",
            "../Market/pytorch/gallery/59561/59561_c2_3600..jpg\n",
            "../Market/pytorch/gallery/19210/19210_c2_21600.jpg\n",
            "../Market/pytorch/gallery/78237/78237_c2_15900.jpg\n",
            "../Market/pytorch/gallery/29553/29553_c2_3900..jpg\n",
            "../Market/pytorch/query/4812/4812_c3_6300..jpg\n",
            "Top 10 images are as follow:\n",
            "../Market/pytorch/gallery/66634/66634_c3_6600..jpg\n",
            "../Market/pytorch/gallery/89917/89917_c1_16500.jpg\n",
            "../Market/pytorch/gallery/59745/59745_c3_5400..jpg\n",
            "../Market/pytorch/gallery/29856/29856_c3_900.j.jpg\n",
            "../Market/pytorch/gallery/66261/66261_c1_22200.jpg\n",
            "../Market/pytorch/query/50157/50157_c2_14700.jpg\n",
            "Top 10 images are as follow:\n",
            "../Market/pytorch/gallery/63165/63165_c2_15600.jpg\n",
            "../Market/pytorch/gallery/84410/84410_c2_12000.jpg\n",
            "../Market/pytorch/gallery/82674/82674_c2_20400.jpg\n",
            "../Market/pytorch/gallery/38151/38151_c2_11700.jpg\n",
            "../Market/pytorch/gallery/39772/39772_c2_10200.jpg\n",
            "../Market/pytorch/query/5728/5728_c3_3000..jpg\n",
            "Top 10 images are as follow:\n",
            "../Market/pytorch/gallery/63271/63271_c3_3300..jpg\n",
            "../Market/pytorch/gallery/32358/32358_c3_3600..jpg\n",
            "../Market/pytorch/gallery/31659/31659_c3_11700.jpg\n",
            "../Market/pytorch/gallery/6511/6511_c3_21600.jpg\n",
            "../Market/pytorch/gallery/98227/98227_c3_18300.jpg\n",
            "../Market/pytorch/query/59687/59687_c2_15000.jpg\n",
            "Top 10 images are as follow:\n",
            "../Market/pytorch/gallery/23804/23804_c2_12900.jpg\n",
            "../Market/pytorch/gallery/70664/70664_c2_9000..jpg\n",
            "../Market/pytorch/gallery/82666/82666_c1_13500.jpg\n",
            "../Market/pytorch/gallery/8086/8086_c1_13200.jpg\n",
            "../Market/pytorch/gallery/97111/97111_c1_12900.jpg\n",
            "../Market/pytorch/query/63155/63155_c4_20400.jpg\n",
            "Top 10 images are as follow:\n",
            "../Market/pytorch/gallery/63937/63937_c4_19500.jpg\n",
            "../Market/pytorch/gallery/24300/24300_c1_600.j.jpg\n",
            "../Market/pytorch/gallery/73698/73698_c2_2700..jpg\n",
            "../Market/pytorch/gallery/83791/83791_c4_11400.jpg\n",
            "../Market/pytorch/gallery/34882/34882_c2_11400.jpg\n",
            "../Market/pytorch/query/68924/68924_c2_19500.jpg\n",
            "Top 10 images are as follow:\n",
            "../Market/pytorch/gallery/82378/82378_c2_20100.jpg\n",
            "../Market/pytorch/gallery/6061/6061_c2_18000.jpg\n",
            "../Market/pytorch/gallery/14685/14685_c2_17100.jpg\n",
            "../Market/pytorch/gallery/57247/57247_c2_16500.jpg\n",
            "../Market/pytorch/gallery/5358/5358_c2_900.j.jpg\n",
            "../Market/pytorch/query/70539/70539_c3_11400.jpg\n",
            "Top 10 images are as follow:\n",
            "../Market/pytorch/gallery/34882/34882_c2_11400.jpg\n",
            "../Market/pytorch/gallery/13107/13107_c3_9000..jpg\n",
            "../Market/pytorch/gallery/56156/56156_c4_9600..jpg\n",
            "../Market/pytorch/gallery/18564/18564_c3_2700..jpg\n",
            "../Market/pytorch/gallery/86419/86419_c4_16200.jpg\n",
            "../Market/pytorch/query/74839/74839_c2_8100..jpg\n",
            "Top 10 images are as follow:\n",
            "../Market/pytorch/gallery/13107/13107_c3_9000..jpg\n",
            "../Market/pytorch/gallery/90093/90093_c3_21300.jpg\n",
            "../Market/pytorch/gallery/25626/25626_c3_10200.jpg\n",
            "../Market/pytorch/gallery/87452/87452_c1_300.j.jpg\n",
            "../Market/pytorch/gallery/99668/99668_c3_7800..jpg\n",
            "../Market/pytorch/query/79084/79084_c3_19500.jpg\n",
            "Top 10 images are as follow:\n",
            "../Market/pytorch/gallery/90822/90822_c3_8100..jpg\n",
            "../Market/pytorch/gallery/26845/26845_c3_20100.jpg\n",
            "../Market/pytorch/gallery/8520/8520_c3_7500..jpg\n",
            "../Market/pytorch/gallery/92714/92714_c3_11100.jpg\n",
            "../Market/pytorch/gallery/99708/99708_c3_20400.jpg\n",
            "../Market/pytorch/query/79879/79879_c4_3000..jpg\n",
            "Top 10 images are as follow:\n",
            "../Market/pytorch/gallery/76143/76143_c4_3900..jpg\n",
            "../Market/pytorch/gallery/80785/80785_c4_3600..jpg\n",
            "../Market/pytorch/gallery/22660/22660_c4_2700..jpg\n",
            "../Market/pytorch/gallery/89524/89524_c4_14700.jpg\n",
            "../Market/pytorch/gallery/8966/8966_c4_2100..jpg\n",
            "../Market/pytorch/query/8086/8086_c1_13200.jpg\n",
            "Top 10 images are as follow:\n",
            "../Market/pytorch/gallery/97111/97111_c1_12900.jpg\n",
            "../Market/pytorch/gallery/94124/94124_c1_12600.jpg\n",
            "../Market/pytorch/gallery/82666/82666_c1_13500.jpg\n",
            "../Market/pytorch/gallery/82418/82418_c4_19800.jpg\n",
            "../Market/pytorch/gallery/82091/82091_c1_18900.jpg\n",
            "../Market/pytorch/query/81548/81548_c1_17400.jpg\n",
            "Top 10 images are as follow:\n",
            "../Market/pytorch/gallery/38057/38057_c1_17100.jpg\n",
            "../Market/pytorch/gallery/83140/83140_c1_16200.jpg\n",
            "../Market/pytorch/gallery/87697/87697_c1_19800.jpg\n",
            "../Market/pytorch/gallery/66352/66352_c1_21900.jpg\n",
            "../Market/pytorch/gallery/66951/66951_c1_20100.jpg\n",
            "../Market/pytorch/query/8249/8249_c1_9900..jpg\n",
            "Top 10 images are as follow:\n",
            "../Market/pytorch/gallery/80132/80132_c1_8100..jpg\n",
            "../Market/pytorch/gallery/56293/56293_c1_9600..jpg\n",
            "../Market/pytorch/gallery/79879/79879_c4_3000..jpg\n",
            "../Market/pytorch/gallery/89917/89917_c1_16500.jpg\n",
            "../Market/pytorch/gallery/90111/90111_c1_7800..jpg\n",
            "../Market/pytorch/query/82666/82666_c1_13500.jpg\n",
            "Top 10 images are as follow:\n",
            "../Market/pytorch/gallery/97111/97111_c1_12900.jpg\n",
            "../Market/pytorch/gallery/8086/8086_c1_13200.jpg\n",
            "../Market/pytorch/gallery/94124/94124_c1_12600.jpg\n",
            "../Market/pytorch/gallery/82418/82418_c4_19800.jpg\n",
            "../Market/pytorch/gallery/5789/5789_c1_8400..jpg\n",
            "../Market/pytorch/query/83100/83100_c4_12900.jpg\n",
            "Top 10 images are as follow:\n",
            "../Market/pytorch/gallery/49399/49399_c4_5100..jpg\n",
            "../Market/pytorch/gallery/3190/3190_c3_18600.jpg\n",
            "../Market/pytorch/gallery/98841/98841_c1_21600.jpg\n",
            "../Market/pytorch/gallery/83140/83140_c1_16200.jpg\n",
            "../Market/pytorch/gallery/28470/28470_c4_15900.jpg\n",
            "../Market/pytorch/query/84007/84007_c3_9300..jpg\n",
            "Top 10 images are as follow:\n",
            "../Market/pytorch/gallery/67803/67803_c2_19200.jpg\n",
            "../Market/pytorch/gallery/3190/3190_c3_18600.jpg\n",
            "../Market/pytorch/gallery/24720/24720_c3_13500.jpg\n",
            "../Market/pytorch/gallery/2231/2231_c2_19800.jpg\n",
            "../Market/pytorch/gallery/47832/47832_c2_6000..jpg\n",
            "../Market/pytorch/query/8520/8520_c3_7500..jpg\n",
            "Top 10 images are as follow:\n",
            "../Market/pytorch/gallery/49499/49499_c3_6000..jpg\n",
            "../Market/pytorch/gallery/43187/43187_c3_8700..jpg\n",
            "../Market/pytorch/gallery/82860/82860_c3_5700..jpg\n",
            "../Market/pytorch/gallery/26845/26845_c3_20100.jpg\n",
            "../Market/pytorch/gallery/79084/79084_c3_19500.jpg\n",
            "../Market/pytorch/query/86419/86419_c4_16200.jpg\n",
            "Top 10 images are as follow:\n",
            "../Market/pytorch/gallery/16776/16776_c4_16800.jpg\n",
            "../Market/pytorch/gallery/56156/56156_c4_9600..jpg\n",
            "../Market/pytorch/gallery/88605/88605_c1_6600..jpg\n",
            "../Market/pytorch/gallery/27103/27103_c1_21300.jpg\n",
            "../Market/pytorch/gallery/5176/5176_c1_6900..jpg\n",
            "../Market/pytorch/query/88605/88605_c1_6600..jpg\n",
            "Top 10 images are as follow:\n",
            "../Market/pytorch/gallery/5176/5176_c1_6900..jpg\n",
            "../Market/pytorch/gallery/16776/16776_c4_16800.jpg\n",
            "../Market/pytorch/gallery/31169/31169_c1_7500..jpg\n",
            "../Market/pytorch/gallery/92930/92930_c1_8700..jpg\n",
            "../Market/pytorch/gallery/80132/80132_c1_8100..jpg\n",
            "../Market/pytorch/query/89857/89857_c3_10800.jpg\n",
            "Top 10 images are as follow:\n",
            "../Market/pytorch/gallery/99668/99668_c3_7800..jpg\n",
            "../Market/pytorch/gallery/37986/37986_c3_8400..jpg\n",
            "../Market/pytorch/gallery/90093/90093_c3_21300.jpg\n",
            "../Market/pytorch/gallery/13107/13107_c3_9000..jpg\n",
            "../Market/pytorch/gallery/15073/15073_c3_21000.jpg\n",
            "../Market/pytorch/query/90235/90235_c4_20100.jpg\n",
            "Top 10 images are as follow:\n",
            "../Market/pytorch/gallery/62074/62074_c4_19200.jpg\n",
            "../Market/pytorch/gallery/43460/43460_c4_4200..jpg\n",
            "../Market/pytorch/gallery/34837/34837_c4_21300.jpg\n",
            "../Market/pytorch/gallery/27316/27316_c4_15000.jpg\n",
            "../Market/pytorch/gallery/25015/25015_c4_18000.jpg\n",
            "../Market/pytorch/query/90845/90845_c2_6600..jpg\n",
            "Top 10 images are as follow:\n",
            "../Market/pytorch/gallery/34302/34302_c2_7500..jpg\n",
            "../Market/pytorch/gallery/35725/35725_c2_5700..jpg\n",
            "../Market/pytorch/gallery/17886/17886_c2_8700..jpg\n",
            "../Market/pytorch/gallery/18346/18346_c2_10800.jpg\n",
            "../Market/pytorch/gallery/47277/47277_c2_7200..jpg\n",
            "../Market/pytorch/query/95069/95069_c3_12300.jpg\n",
            "Top 10 images are as follow:\n",
            "../Market/pytorch/gallery/81462/81462_c3_3900..jpg\n",
            "../Market/pytorch/gallery/38388/38388_c3_19800.jpg\n",
            "../Market/pytorch/gallery/2810/2810_c3_13200.jpg\n",
            "../Market/pytorch/gallery/90698/90698_c3_21900.jpg\n",
            "../Market/pytorch/gallery/6511/6511_c3_21600.jpg\n",
            "../Market/pytorch/query/95864/95864_c2_21900.jpg\n",
            "Top 10 images are as follow:\n",
            "../Market/pytorch/gallery/46391/46391_c2_12600.jpg\n",
            "../Market/pytorch/gallery/19210/19210_c2_21600.jpg\n",
            "../Market/pytorch/gallery/48890/48890_c2_22200.jpg\n",
            "../Market/pytorch/gallery/13184/13184_c2_17700.jpg\n",
            "../Market/pytorch/gallery/77107/77107_c2_12300.jpg\n",
            "../Market/pytorch/query/9627/9627_c2_3000..jpg\n",
            "Top 10 images are as follow:\n",
            "../Market/pytorch/gallery/19392/19392_c4_11100.jpg\n",
            "../Market/pytorch/gallery/98738/98738_c4_300.j.jpg\n",
            "../Market/pytorch/gallery/86419/86419_c4_16200.jpg\n",
            "../Market/pytorch/gallery/34882/34882_c2_11400.jpg\n",
            "../Market/pytorch/gallery/80132/80132_c1_8100..jpg\n",
            "../Market/pytorch/query/96564/96564_c4_4500..jpg\n",
            "Top 10 images are as follow:\n",
            "../Market/pytorch/gallery/25015/25015_c4_18000.jpg\n",
            "../Market/pytorch/gallery/34837/34837_c4_21300.jpg\n",
            "../Market/pytorch/gallery/27316/27316_c4_15000.jpg\n",
            "../Market/pytorch/gallery/90802/90802_c4_12600.jpg\n",
            "../Market/pytorch/gallery/90235/90235_c4_20100.jpg\n",
            "../Market/pytorch/query/96886/96886_c4_12000.jpg\n",
            "Top 10 images are as follow:\n",
            "../Market/pytorch/gallery/29479/29479_c4_11700.jpg\n",
            "../Market/pytorch/gallery/79958/79958_c4_6000..jpg\n",
            "../Market/pytorch/gallery/85515/85515_c4_12300.jpg\n",
            "../Market/pytorch/gallery/66951/66951_c1_20100.jpg\n",
            "../Market/pytorch/gallery/82091/82091_c1_18900.jpg\n",
            "../Market/pytorch/query/97603/97603_c2_600.j.jpg\n",
            "Top 10 images are as follow:\n",
            "../Market/pytorch/gallery/46391/46391_c2_12600.jpg\n",
            "../Market/pytorch/gallery/5816/5816_c2_2100..jpg\n",
            "../Market/pytorch/gallery/95864/95864_c2_21900.jpg\n",
            "../Market/pytorch/gallery/19210/19210_c2_21600.jpg\n",
            "../Market/pytorch/gallery/47011/47011_c2_5100..jpg\n",
            "../Market/pytorch/query/98227/98227_c3_18300.jpg\n",
            "Top 10 images are as follow:\n",
            "../Market/pytorch/gallery/31659/31659_c3_11700.jpg\n",
            "../Market/pytorch/gallery/88850/88850_c3_20700.jpg\n",
            "../Market/pytorch/gallery/63271/63271_c3_3300..jpg\n",
            "../Market/pytorch/gallery/50579/50579_c3_16800.jpg\n",
            "../Market/pytorch/gallery/15611/15611_c3_18000.jpg\n",
            "../Market/pytorch/query/98738/98738_c4_300.j.jpg\n",
            "Top 10 images are as follow:\n",
            "../Market/pytorch/gallery/59849/59849_c4_10500.jpg\n",
            "../Market/pytorch/gallery/73698/73698_c2_2700..jpg\n",
            "../Market/pytorch/gallery/66500/66500_c4_16500.jpg\n",
            "../Market/pytorch/gallery/9627/9627_c2_3000..jpg\n",
            "../Market/pytorch/gallery/12125/12125_c4_7800..jpg\n",
            "../Market/pytorch/query/98841/98841_c1_21600.jpg\n",
            "Top 10 images are as follow:\n",
            "../Market/pytorch/gallery/99281/99281_c1_21000.jpg\n",
            "../Market/pytorch/gallery/66352/66352_c1_21900.jpg\n",
            "../Market/pytorch/gallery/83140/83140_c1_16200.jpg\n",
            "../Market/pytorch/gallery/38057/38057_c1_17100.jpg\n",
            "../Market/pytorch/gallery/81548/81548_c1_17400.jpg\n",
            "../Market/pytorch/query/99046/99046_c1_2100..jpg\n",
            "Top 10 images are as follow:\n",
            "../Market/pytorch/gallery/58929/58929_c1_3600..jpg\n",
            "../Market/pytorch/gallery/38440/38440_c1_3000..jpg\n",
            "../Market/pytorch/gallery/2765/2765_c2_1500..jpg\n",
            "../Market/pytorch/gallery/99332/99332_c2_0.jpg\n",
            "../Market/pytorch/gallery/4652/4652_c1_4800..jpg\n",
            "../Market/pytorch/query/99281/99281_c1_21000.jpg\n",
            "Top 10 images are as follow:\n",
            "../Market/pytorch/gallery/98841/98841_c1_21600.jpg\n",
            "../Market/pytorch/gallery/66352/66352_c1_21900.jpg\n",
            "../Market/pytorch/gallery/83140/83140_c1_16200.jpg\n",
            "../Market/pytorch/gallery/38057/38057_c1_17100.jpg\n",
            "../Market/pytorch/gallery/81548/81548_c1_17400.jpg\n",
            "../Market/pytorch/query/99413/99413_c2_21300.jpg\n",
            "Top 10 images are as follow:\n",
            "../Market/pytorch/gallery/6061/6061_c2_18000.jpg\n",
            "../Market/pytorch/gallery/57247/57247_c2_16500.jpg\n",
            "../Market/pytorch/gallery/14685/14685_c2_17100.jpg\n",
            "../Market/pytorch/gallery/68924/68924_c2_19500.jpg\n",
            "../Market/pytorch/gallery/82378/82378_c2_20100.jpg\n",
            "../Market/pytorch/query/99708/99708_c3_20400.jpg\n",
            "Top 10 images are as follow:\n",
            "../Market/pytorch/gallery/86500/86500_c3_1200..jpg\n",
            "../Market/pytorch/gallery/15073/15073_c3_21000.jpg\n",
            "../Market/pytorch/gallery/2740/2740_c3_9600..jpg\n",
            "../Market/pytorch/gallery/13107/13107_c3_9000..jpg\n",
            "../Market/pytorch/gallery/25626/25626_c3_10200.jpg\n"
          ],
          "name": "stdout"
        },
        {
          "output_type": "stream",
          "text": [
            "Traceback (most recent call last):\n",
            "  File \"demo.py\", line 80, in <module>\n",
            "    index = sort_img(query_feature[i],query_label[i],query_cam[i],gallery_feature,gallery_label,gallery_cam)\n",
            "IndexError: index 65 is out of bounds for dimension 0 with size 65\n"
          ],
          "name": "stderr"
        }
      ]
    },
    {
      "cell_type": "markdown",
      "metadata": {
        "id": "bWEuNGlrqKqm",
        "colab_type": "text"
      },
      "source": [
        "# **Visualizzazione risultato**"
      ]
    },
    {
      "cell_type": "code",
      "metadata": {
        "id": "X05gdMG3qJhy",
        "colab_type": "code",
        "colab": {}
      },
      "source": [
        "from IPython.display import display, Image\n",
        "display(Image(filename='show.png'))"
      ],
      "execution_count": null,
      "outputs": []
    }
  ]
}
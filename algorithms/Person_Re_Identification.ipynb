{
  "nbformat": 4,
  "nbformat_minor": 0,
  "metadata": {
    "colab": {
      "name": "Person Re-Identification.ipynb",
      "provenance": [],
      "collapsed_sections": [],
      "toc_visible": true
    },
    "kernelspec": {
      "name": "python3",
      "display_name": "Python 3"
    },
    "accelerator": "GPU"
  },
  "cells": [
    {
      "cell_type": "markdown",
      "metadata": {
        "id": "J4DVkW2_9pmt",
        "colab_type": "text"
      },
      "source": [
        "#**Inizializzazione**\n",
        "*   Ottenimento dataset di test (formato zip)\n",
        "*   Dataset unzip\n",
        "*   Clonazione repository da GitHub"
      ]
    },
    {
      "cell_type": "code",
      "metadata": {
        "id": "4YN6ZURM5FiN",
        "colab_type": "code",
        "colab": {}
      },
      "source": [
        "!wget http://hitis.altervista.org/Market.zip\n",
        "!unzip Market.zip"
      ],
      "execution_count": null,
      "outputs": []
    },
    {
      "cell_type": "markdown",
      "metadata": {
        "id": "TPV-8iCZ9KAH",
        "colab_type": "text"
      },
      "source": [
        "Per esecuzione con dataset Market-1501"
      ]
    },
    {
      "cell_type": "code",
      "metadata": {
        "id": "b8ZQAglC9Ivm",
        "colab_type": "code",
        "colab": {}
      },
      "source": [
        "#!wget http://hitis.altervista.org/Market1501.zip\n",
        "#!unzip Market1501.zip"
      ],
      "execution_count": null,
      "outputs": []
    },
    {
      "cell_type": "code",
      "metadata": {
        "id": "MZC3_0l0rqrk",
        "colab_type": "code",
        "colab": {}
      },
      "source": [
        "!git clone https://github.com/SpanoChristian/Person_reID_baseline_pytorch.git"
      ],
      "execution_count": null,
      "outputs": []
    },
    {
      "cell_type": "markdown",
      "metadata": {
        "id": "LpYrnxsGeS4l",
        "colab_type": "text"
      },
      "source": [
        "#**Preparazione**"
      ]
    },
    {
      "cell_type": "code",
      "metadata": {
        "id": "Rr7_ifB-et9u",
        "colab_type": "code",
        "colab": {}
      },
      "source": [
        "cd Person_reID_baseline_pytorch"
      ],
      "execution_count": null,
      "outputs": []
    },
    {
      "cell_type": "markdown",
      "metadata": {
        "id": "AsB17zG6r2Lj",
        "colab_type": "text"
      },
      "source": [
        "Inserimento delle immagini raggruppate per ID nella directory \"Market/pytorch\""
      ]
    },
    {
      "cell_type": "code",
      "metadata": {
        "id": "yY87YRKp71IF",
        "colab_type": "code",
        "colab": {}
      },
      "source": [
        "!python prepare.py"
      ],
      "execution_count": null,
      "outputs": []
    },
    {
      "cell_type": "markdown",
      "metadata": {
        "id": "-Qebm3DzgN5_",
        "colab_type": "text"
      },
      "source": [
        "#**Training**\n",
        "Training del modello"
      ]
    },
    {
      "cell_type": "code",
      "metadata": {
        "id": "3x6Fe7u-8Xym",
        "colab_type": "code",
        "colab": {}
      },
      "source": [
        "!pip install pretrainedmodels\n",
        "!python train.py --gpu_ids 0 --name ft_ResNet50 --train --batchsize 32  --data_dir ../Market/pytorch"
      ],
      "execution_count": null,
      "outputs": []
    },
    {
      "cell_type": "markdown",
      "metadata": {
        "id": "SyII8rhQWHjC",
        "colab_type": "text"
      },
      "source": [
        "**Modello già trainato**"
      ]
    },
    {
      "cell_type": "code",
      "metadata": {
        "id": "MeI9afR3cKh4",
        "colab_type": "code",
        "colab": {}
      },
      "source": [
        "!pip install pretrainedmodels\n",
        "!wget http://hitis.altervista.org/model.zip"
      ],
      "execution_count": null,
      "outputs": []
    },
    {
      "cell_type": "code",
      "metadata": {
        "id": "XcP_9htDAg-j",
        "colab_type": "code",
        "colab": {}
      },
      "source": [
        "!unzip model.zip"
      ],
      "execution_count": null,
      "outputs": []
    },
    {
      "cell_type": "markdown",
      "metadata": {
        "id": "AGiZpLRNgcv3",
        "colab_type": "text"
      },
      "source": [
        "#**Test**\n",
        "Caricamento dei pesi trainati per estrarre caratteristiche da ogni immagine"
      ]
    },
    {
      "cell_type": "code",
      "metadata": {
        "id": "TdilxkAPS_9z",
        "colab_type": "code",
        "colab": {}
      },
      "source": [
        "!python test.py --gpu_ids 0 --name ft_ResNet50 --test_dir ../Market/pytorch/ --batchsize 32 --which_epoch last"
      ],
      "execution_count": null,
      "outputs": []
    },
    {
      "cell_type": "markdown",
      "metadata": {
        "id": "3XOP6H0Okazp",
        "colab_type": "text"
      },
      "source": [
        "#**Demo**\n",
        "Visualizzazione del risultato specificando quale query si vuole testare"
      ]
    },
    {
      "cell_type": "code",
      "metadata": {
        "id": "cK8nCNAkR84i",
        "colab_type": "code",
        "colab": {}
      },
      "source": [
        "%mkdir matching_result"
      ],
      "execution_count": null,
      "outputs": []
    },
    {
      "cell_type": "code",
      "metadata": {
        "id": "qk99Mbj2k5Am",
        "colab_type": "code",
        "colab": {}
      },
      "source": [
        "%%bash \n",
        "#Esegui script per numero di query\n",
        "for i in {1..41}; do\n",
        "\tpython demo.py --query_index \"$i\"\n",
        "done"
      ],
      "execution_count": null,
      "outputs": []
    },
    {
      "cell_type": "markdown",
      "metadata": {
        "id": "bWEuNGlrqKqm",
        "colab_type": "text"
      },
      "source": [
        "# **Visualizzazione risultato**"
      ]
    },
    {
      "cell_type": "code",
      "metadata": {
        "id": "X05gdMG3qJhy",
        "colab_type": "code",
        "colab": {}
      },
      "source": [
        "from IPython.display import display, Image\n",
        "display(Image(filename='show.png'))"
      ],
      "execution_count": null,
      "outputs": []
    }
  ]
}
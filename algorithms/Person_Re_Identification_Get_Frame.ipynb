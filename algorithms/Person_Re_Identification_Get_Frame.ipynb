{
  "nbformat": 4,
  "nbformat_minor": 0,
  "metadata": {
    "colab": {
      "name": "Person Re-Identification Get Frame.ipynb",
      "provenance": [],
      "collapsed_sections": []
    },
    "kernelspec": {
      "name": "python3",
      "display_name": "Python 3"
    },
    "accelerator": "GPU"
  },
  "cells": [
    {
      "cell_type": "markdown",
      "metadata": {
        "id": "gE3azXoR_pWi",
        "colab_type": "text"
      },
      "source": [
        "# STEP 1: Clonazione Darknet\n",
        "Clonazione della repository personale (mi ha consentito di modificare il file \"image.c\" per croppare le immagini). All'interno sono presenti anche gli stream video (dir. \"Video\")\n",
        "\n",
        "Repository di origine: https://github.com/AlexeyAB/darknet.git"
      ]
    },
    {
      "cell_type": "code",
      "metadata": {
        "id": "68eMertgIxaB",
        "colab_type": "code",
        "colab": {}
      },
      "source": [
        "!git clone https://github.com/SpanoChristian/darknet.git"
      ],
      "execution_count": null,
      "outputs": []
    },
    {
      "cell_type": "markdown",
      "metadata": {
        "id": "UGVDIYKmuuEs",
        "colab_type": "text"
      },
      "source": [
        "Creazione directory \"dataset\" che conterrà tutti i frame campionati dal video sorgente"
      ]
    },
    {
      "cell_type": "code",
      "metadata": {
        "id": "GDqGZlQKujXn",
        "colab_type": "code",
        "colab": {}
      },
      "source": [
        "%cd ./darknet\n",
        "%mkdir dataset/\n",
        "%cd dataset/"
      ],
      "execution_count": null,
      "outputs": []
    },
    {
      "cell_type": "markdown",
      "metadata": {
        "id": "tLV4Rx_3oU_T",
        "colab_type": "text"
      },
      "source": [
        "# STEP 2: Campionamento frame da stream video"
      ]
    },
    {
      "cell_type": "code",
      "metadata": {
        "id": "-J5zM1nR7Jpq",
        "colab_type": "code",
        "colab": {}
      },
      "source": [
        "%cd ../..\n",
        "!wget http://hitis.altervista.org/CocktailParty.zip"
      ],
      "execution_count": null,
      "outputs": []
    },
    {
      "cell_type": "code",
      "metadata": {
        "id": "LValj5vQr14w",
        "colab_type": "code",
        "colab": {}
      },
      "source": [
        "!unzip CocktailParty.zip\n",
        "%cd ./darknet/dataset/"
      ],
      "execution_count": null,
      "outputs": []
    },
    {
      "cell_type": "code",
      "metadata": {
        "id": "zt0Ki0OiiLEk",
        "colab_type": "code",
        "colab": {}
      },
      "source": [
        "import cv2\n",
        "import random\n",
        "\n",
        "def get_frame(stream):\n",
        "\n",
        "  success = True\n",
        "  count = 0\n",
        "\n",
        "  video_sorgente = cv2.VideoCapture('../../CocktailParty/' + stream)\n",
        "  fps = int(video_sorgente.get(cv2.CAP_PROP_FPS))\n",
        "\n",
        "  if stream == \"Cam_1.avi\":\n",
        "    camera = \"c1\"\n",
        "  elif stream == \"Cam_2.avi\":\n",
        "    camera = \"c2\"\n",
        "  elif stream == \"Cam_3.avi\":\n",
        "    camera = \"c3\"\n",
        "  else:\n",
        "    camera = \"c4\"\n",
        "\n",
        "  while success:\n",
        "    fps = int(video_sorgente.get(cv2.CAP_PROP_FPS))\n",
        "    rnd_id = random.randint(0, 100000)\n",
        "    success, image = video_sorgente.read()\n",
        "    print('Lettura frame:', success)\n",
        "    print('#Frame: ', fps)\n",
        "    if count%(fps*20) == 0 and success==True:\n",
        "         cv2.imwrite(str(rnd_id) + '_' + camera + '_%d.jpg'%count, image)\n",
        "         print('Frame salvato con successo.')\n",
        "    count += 1\n"
      ],
      "execution_count": null,
      "outputs": []
    },
    {
      "cell_type": "markdown",
      "metadata": {
        "id": "oyj-pfaWlx4d",
        "colab_type": "text"
      },
      "source": [
        "**Campionamento frame dalle telecamere**"
      ]
    },
    {
      "cell_type": "code",
      "metadata": {
        "id": "niikYfwQoUdS",
        "colab_type": "code",
        "colab": {}
      },
      "source": [
        "get_frame(\"Cam_1.avi\")\n",
        "get_frame(\"Cam_2.avi\")\n",
        "get_frame(\"Cam_3.avi\")\n",
        "get_frame(\"Cam_4.avi\")"
      ],
      "execution_count": null,
      "outputs": []
    },
    {
      "cell_type": "markdown",
      "metadata": {
        "id": "P34q3nSvmEZo",
        "colab_type": "text"
      },
      "source": [
        "Salvataggio del dataset scaricabile"
      ]
    },
    {
      "cell_type": "code",
      "metadata": {
        "id": "K7pOrXbA22Ht",
        "colab_type": "code",
        "colab": {}
      },
      "source": [
        "#!zip -r ../dataset.zip ../dataset/"
      ],
      "execution_count": null,
      "outputs": []
    },
    {
      "cell_type": "markdown",
      "metadata": {
        "id": "IFRGN5XsvqA1",
        "colab_type": "text"
      },
      "source": [
        "# STEP 3: Verifica pre-requisiti e costruzione di Darknet\n",
        "La costruzione consente di utilizzare il file eseguibile \"darknet\" che permette di avviare l'identificazione degli oggetti"
      ]
    },
    {
      "cell_type": "code",
      "metadata": {
        "id": "xym8_m8CIyXK",
        "colab_type": "code",
        "colab": {}
      },
      "source": [
        "# change makefile to have GPU and OPENCV enabled\n",
        "%cd ..\n",
        "!sed -i 's/OPENCV=0/OPENCV=1/' Makefile\n",
        "!sed -i 's/GPU=0/GPU=1/' Makefile\n",
        "!sed -i 's/CUDNN=0/CUDNN=1/' Makefile\n",
        "!sed -i 's/CUDNN_HALF=0/CUDNN_HALF=1/' Makefile"
      ],
      "execution_count": null,
      "outputs": []
    },
    {
      "cell_type": "code",
      "metadata": {
        "id": "5uloUwmUKF05",
        "colab_type": "code",
        "colab": {}
      },
      "source": [
        "# verify CUDA\n",
        "!/usr/local/cuda/bin/nvcc --version"
      ],
      "execution_count": null,
      "outputs": []
    },
    {
      "cell_type": "code",
      "metadata": {
        "id": "q2Jjv0yRKLPe",
        "colab_type": "code",
        "colab": {}
      },
      "source": [
        "# make darknet (builds darknet so that you can then use the darknet executable file to run or train object detectors)\n",
        "!make"
      ],
      "execution_count": null,
      "outputs": []
    },
    {
      "cell_type": "markdown",
      "metadata": {
        "id": "ikgv38AdKldo",
        "colab_type": "text"
      },
      "source": [
        "# STEP 4: Download pesi YOLOv4 pretrainati\n",
        "Utilizziamo questi pesi pretrainati per eseguire YOLOv4 ed identificare le persone."
      ]
    },
    {
      "cell_type": "code",
      "metadata": {
        "id": "vVtgyY_ELoSf",
        "colab_type": "code",
        "colab": {}
      },
      "source": [
        "!wget https://github.com/AlexeyAB/darknet/releases/download/darknet_yolo_v3_optimal/yolov4.weights"
      ],
      "execution_count": null,
      "outputs": []
    },
    {
      "cell_type": "markdown",
      "metadata": {
        "id": "zROXpfwcMcJW",
        "colab_type": "text"
      },
      "source": [
        "# STEP 5: Avvio dell'identificazione e crop delle immagini\n",
        "Per ogni frame ricavato allo STEP 2) viene avviata l'identificazione delle persone presenti nell'immagine e, per ognuna di queste, viene salvata la relativa immagine croppata nella directory \"bounding_box_test\". Il dataset che si verrà a creare sarà successivamente dato in pasto all'algoritmo di person re-identification."
      ]
    },
    {
      "cell_type": "code",
      "metadata": {
        "id": "AjVp8ccM4A1q",
        "colab_type": "code",
        "colab": {}
      },
      "source": [
        "# Creazione della directory dove si salveranno le persone croppate\n",
        "%mkdir bounding_box_test/"
      ],
      "execution_count": null,
      "outputs": []
    },
    {
      "cell_type": "markdown",
      "metadata": {
        "id": "kwcZTn_FWLfj",
        "colab_type": "text"
      },
      "source": [
        ""
      ]
    },
    {
      "cell_type": "code",
      "metadata": {
        "id": "jESyRhd4Nd38",
        "colab_type": "code",
        "colab": {}
      },
      "source": [
        "%%bash\n",
        "\n",
        "cd ./dataset/\n",
        "for f in *.jpg; do\n",
        "    cd ..\n",
        "    ./darknet detector test cfg/coco.data cfg/yolov4.cfg yolov4.weights ./dataset/\"$f\"\n",
        "    cd dataset/\n",
        "done"
      ],
      "execution_count": null,
      "outputs": []
    },
    {
      "cell_type": "code",
      "metadata": {
        "id": "e5695zlFTu-e",
        "colab_type": "code",
        "colab": {}
      },
      "source": [
        "!zip -r ./bounding_box_test.zip ./bounding_box_test/"
      ],
      "execution_count": null,
      "outputs": []
    }
  ]
}